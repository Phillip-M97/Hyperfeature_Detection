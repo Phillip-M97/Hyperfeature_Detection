{
 "cells": [
  {
   "cell_type": "code",
   "execution_count": 1,
   "metadata": {},
   "outputs": [],
   "source": [
    "import cv2"
   ]
  },
  {
   "cell_type": "code",
   "execution_count": 16,
   "metadata": {},
   "outputs": [],
   "source": [
    "image = cv2.imread('assets/spair/images/2010_airplane.jpg')\n",
    "\n",
    "# Convert the image to grayscale\n",
    "gray_image = cv2.cvtColor(image, cv2.COLOR_BGR2GRAY)\n",
    "\n",
    "# Apply thresholding\n",
    "# Assuming the background is very bright, you can adjust the threshold value as needed\n",
    "threshold_value = 253  # This value might need tuning depending on your specific image\n",
    "_, mask = cv2.threshold(gray_image, threshold_value, 300, cv2.THRESH_BINARY_INV)\n",
    "\n",
    "# Optional: apply morphology to remove noise or fill holes\n",
    "kernel = cv2.getStructuringElement(cv2.MORPH_ELLIPSE, (5,5))\n",
    "cleaned_mask = cv2.morphologyEx(mask, cv2.MORPH_OPEN, kernel)\n",
    "\n",
    "# Save or display the mask\n",
    "cv2.imwrite('mask.jpg', cleaned_mask)  # Save the mask\n",
    "cv2.imshow('Mask', cleaned_mask)  # Display the mask\n",
    "cv2.waitKey(0)\n",
    "cv2.destroyAllWindows()"
   ]
  },
  {
   "cell_type": "code",
   "execution_count": 17,
   "metadata": {},
   "outputs": [],
   "source": [
    "gray_image = cv2.cvtColor(image, cv2.COLOR_BGR2GRAY)\n",
    "\n",
    "# Assuming 'cleaned_mask' is your final mask obtained from the previous operations\n",
    "# Apply Gaussian Blur\n",
    "blurred_image = cv2.GaussianBlur(gray_image, (5, 5), 0)\n",
    "\n",
    "# Use adaptive thresholding\n",
    "adaptive_mask = cv2.adaptiveThreshold(blurred_image, 255, cv2.ADAPTIVE_THRESH_GAUSSIAN_C, cv2.THRESH_BINARY_INV, 11, 2)\n",
    "\n",
    "# Morphological operations to clean up the mask\n",
    "kernel = cv2.getStructuringElement(cv2.MORPH_ELLIPSE, (5, 5))\n",
    "cleaned_mask = cv2.morphologyEx(adaptive_mask, cv2.MORPH_CLOSE, kernel)\n",
    "cleaned_mask = cv2.morphologyEx(cleaned_mask, cv2.MORPH_OPEN, kernel)\n",
    "\n",
    "# Apply the mask to the original image to isolate the object\n",
    "final_image = cv2.bitwise_and(image, image, mask=cleaned_mask)\n",
    "\n",
    "# Save the final image\n",
    "cv2.imwrite('final_image.jpg', final_image)\n",
    "\n",
    "# Optionally display the final image\n",
    "cv2.imshow('Final Image', final_image)\n",
    "cv2.waitKey(0)\n",
    "cv2.destroyAllWindows()"
   ]
  },
  {
   "cell_type": "code",
   "execution_count": null,
   "metadata": {},
   "outputs": [],
   "source": []
  }
 ],
 "metadata": {
  "kernelspec": {
   "display_name": "Diffusion_Hyperfeatures",
   "language": "python",
   "name": "python3"
  },
  "language_info": {
   "codemirror_mode": {
    "name": "ipython",
    "version": 3
   },
   "file_extension": ".py",
   "mimetype": "text/x-python",
   "name": "python",
   "nbconvert_exporter": "python",
   "pygments_lexer": "ipython3",
   "version": "3.11.2"
  }
 },
 "nbformat": 4,
 "nbformat_minor": 2
}
